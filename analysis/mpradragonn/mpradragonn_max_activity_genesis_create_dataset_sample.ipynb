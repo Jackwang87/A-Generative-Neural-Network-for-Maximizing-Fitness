{
 "cells": [
  {
   "cell_type": "code",
   "execution_count": 1,
   "metadata": {},
   "outputs": [
    {
     "name": "stderr",
     "output_type": "stream",
     "text": [
      "Using TensorFlow backend.\n"
     ]
    }
   ],
   "source": [
    "import keras\n",
    "from keras.models import Sequential, Model, load_model\n",
    "\n",
    "from keras.layers import Dense, Dropout, Activation, Flatten, Input, Lambda\n",
    "from keras.layers import Conv2D, MaxPooling2D, Conv1D, MaxPooling1D, LSTM, ConvLSTM2D, GRU, BatchNormalization, LocallyConnected2D, Permute\n",
    "from keras.layers import Concatenate, Reshape, Softmax, Conv2DTranspose, Embedding, Multiply\n",
    "from keras.callbacks import ModelCheckpoint, EarlyStopping, Callback\n",
    "from keras import regularizers\n",
    "from keras import backend as K\n",
    "import keras.losses\n",
    "\n",
    "import tensorflow as tf\n",
    "from tensorflow.python.framework import ops\n",
    "\n",
    "import isolearn.keras as iso\n",
    "\n",
    "import numpy as np\n",
    "\n",
    "import tensorflow as tf\n",
    "import logging\n",
    "logging.getLogger('tensorflow').setLevel(logging.ERROR)\n",
    "\n",
    "import pandas as pd\n",
    "\n",
    "import os\n",
    "import pickle\n",
    "import numpy as np\n",
    "\n",
    "import scipy.sparse as sp\n",
    "import scipy.io as spio\n",
    "\n",
    "import matplotlib.pyplot as plt\n",
    "\n",
    "import isolearn.io as isoio\n",
    "import isolearn.keras as isol\n",
    "\n",
    "from genesis.visualization import *\n",
    "from genesis.generator import *\n",
    "from genesis.predictor import *\n",
    "from genesis.optimizer import *\n",
    "\n",
    "import sklearn\n",
    "from sklearn.decomposition import PCA\n",
    "from sklearn.manifold import TSNE\n",
    "\n",
    "from scipy.stats import pearsonr\n",
    "\n",
    "import seaborn as sns\n",
    "\n",
    "from matplotlib import colors\n",
    "\n",
    "class IdentityEncoder(iso.SequenceEncoder) :\n",
    "    \n",
    "    def __init__(self, seq_len, channel_map) :\n",
    "        super(IdentityEncoder, self).__init__('identity', (seq_len, len(channel_map)))\n",
    "        \n",
    "        self.seq_len = seq_len\n",
    "        self.n_channels = len(channel_map)\n",
    "        self.encode_map = channel_map\n",
    "        self.decode_map = {\n",
    "            nt: ix for ix, nt in self.encode_map.items()\n",
    "        }\n",
    "    \n",
    "    def encode(self, seq) :\n",
    "        encoding = np.zeros((self.seq_len, self.n_channels))\n",
    "        \n",
    "        for i in range(len(seq)) :\n",
    "            if seq[i] in self.encode_map :\n",
    "                channel_ix = self.encode_map[seq[i]]\n",
    "                encoding[i, channel_ix] = 1.\n",
    "\n",
    "        return encoding\n",
    "    \n",
    "    def encode_inplace(self, seq, encoding) :\n",
    "        for i in range(len(seq)) :\n",
    "            if seq[i] in self.encode_map :\n",
    "                channel_ix = self.encode_map[seq[i]]\n",
    "                encoding[i, channel_ix] = 1.\n",
    "    \n",
    "    def encode_inplace_sparse(self, seq, encoding_mat, row_index) :\n",
    "        raise NotImplementError()\n",
    "    \n",
    "    def decode(self, encoding) :\n",
    "        seq = ''\n",
    "    \n",
    "        for pos in range(0, encoding.shape[0]) :\n",
    "            argmax_nt = np.argmax(encoding[pos, :])\n",
    "            max_nt = np.max(encoding[pos, :])\n",
    "            seq += self.decode_map[argmax_nt]\n",
    "\n",
    "        return seq\n",
    "    \n",
    "    def decode_sparse(self, encoding_mat, row_index) :\n",
    "        raise NotImplementError()\n"
   ]
  },
  {
   "cell_type": "code",
   "execution_count": 2,
   "metadata": {},
   "outputs": [],
   "source": [
    "#Download MPRA-DragoNN data\n",
    "\n",
    "#!wget http://mitra.stanford.edu/kundaje/projects/mpra/data/train.hdf5\n",
    "#!wget http://mitra.stanford.edu/kundaje/projects/mpra/data/valid.hdf5\n",
    "#!wget http://mitra.stanford.edu/kundaje/projects/mpra/data/test.hdf5\n"
   ]
  },
  {
   "cell_type": "code",
   "execution_count": 3,
   "metadata": {},
   "outputs": [
    {
     "name": "stdout",
     "output_type": "stream",
     "text": [
      "(914348, 1, 145, 4)\n",
      "(10130, 1, 145, 4)\n"
     ]
    }
   ],
   "source": [
    "from keras.utils import Sequence\n",
    "import h5py\n",
    "import os\n",
    "\n",
    "#SV40 AVG Measurement\n",
    "target_output_ix = 5\n",
    "\n",
    "class MPRADataLoader(Sequence):\n",
    "    def __init__(self, file_path, batch_size=32) :\n",
    "        self.batch_size = batch_size\n",
    "        self.fname = file_path\n",
    "\n",
    "        with h5py.File(self.fname, 'r') as hf:\n",
    "            self.max_batches = hf['X']['sequence'].shape[0]//self.batch_size\n",
    "\n",
    "    def __len__(self):\n",
    "        return self.max_batches\n",
    "\n",
    "    def __getitem__(self, idx):\n",
    "        start_idx = self.batch_size*idx\n",
    "        end_idx = start_idx + self.batch_size\n",
    "        with h5py.File(self.fname, 'r') as hf:\n",
    "            x, y = hf['X']['sequence'][start_idx:end_idx], hf['Y']['output'][start_idx:end_idx]\n",
    "       \n",
    "        return x,y \n",
    "\n",
    "with h5py.File(\"../../../seqprop/examples/mpradragonn/mpradragonn_traindata.hdf5\", 'r') as hf:\n",
    "    x_train, y_train = hf['X']['sequence'][:], hf['Y']['output'][:]\n",
    "\n",
    "x_train = np.expand_dims(x_train, axis=1)\n",
    "y_train = y_train[:, target_output_ix]\n",
    "\n",
    "with h5py.File(\"../../../seqprop/examples/mpradragonn/mpradragonn_testdata.hdf5\", 'r') as hf:\n",
    "    x_test, y_test = hf['X']['sequence'][:], hf['Y']['output'][:]\n",
    "\n",
    "x_test = np.expand_dims(x_test, axis=1)\n",
    "y_test = y_test[:, target_output_ix]\n",
    "\n",
    "print(x_train.shape)\n",
    "print(x_test.shape)\n"
   ]
  },
  {
   "cell_type": "code",
   "execution_count": 4,
   "metadata": {},
   "outputs": [
    {
     "data": {
      "image/png": "[encoded data removed]",
      "text/plain": [
       "<Figure size 432x288 with 1 Axes>"
      ]
     },
     "metadata": {},
     "output_type": "display_data"
    },
    {
     "data": {
      "image/png": "[encoded data removed]",
      "text/plain": [
       "<Figure size 432x288 with 1 Axes>"
      ]
     },
     "metadata": {},
     "output_type": "display_data"
    }
   ],
   "source": [
    "#Histogram of all data\n",
    "\n",
    "f = plt.figure(figsize=(6, 4))\n",
    "\n",
    "plt.hist(y_train, bins=100, density=True, color='green', edgecolor='black')\n",
    "\n",
    "plt.xlim(-4, 4)\n",
    "plt.xticks(fontsize=14)\n",
    "plt.yticks(fontsize=14)\n",
    "\n",
    "plt.xlabel(\"Mean Activity (log)\", fontsize=14)\n",
    "plt.ylabel(\"Data Density\", fontsize=14)\n",
    "\n",
    "plt.tight_layout()\n",
    "plt.show()\n",
    "\n",
    "f = plt.figure(figsize=(6, 4))\n",
    "\n",
    "plt.hist(y_test, bins=100, density=True, color='green', edgecolor='black')\n",
    "\n",
    "plt.xlim(-4, 4)\n",
    "plt.xticks(fontsize=14)\n",
    "plt.yticks(fontsize=14)\n",
    "\n",
    "plt.xlabel(\"Mean Activity (log)\", fontsize=14)\n",
    "plt.ylabel(\"Data Density\", fontsize=14)\n",
    "\n",
    "plt.tight_layout()\n",
    "plt.show()\n"
   ]
  },
  {
   "cell_type": "code",
   "execution_count": 5,
   "metadata": {},
   "outputs": [
    {
     "name": "stdout",
     "output_type": "stream",
     "text": [
      "(50000, 1, 145, 4)\n",
      "(2000, 1, 145, 4)\n"
     ]
    }
   ],
   "source": [
    "#Randomly subsample and shuffle data\n",
    "\n",
    "n_train = 50000\n",
    "n_test = 2000\n",
    "\n",
    "rand_train_ixs = np.random.choice(np.arange(y_train.shape[0]).tolist(), size=n_train, replace=False)\n",
    "rand_test_ixs = np.random.choice(np.arange(y_test.shape[0]).tolist(), size=n_test, replace=False)\n",
    "\n",
    "x_train = x_train[rand_train_ixs]\n",
    "y_train = y_train[rand_train_ixs]\n",
    "\n",
    "x_test = x_test[rand_test_ixs]\n",
    "y_test = y_test[rand_test_ixs]\n",
    "\n",
    "new_train_index = np.arange(x_train.shape[0])\n",
    "np.random.shuffle(new_train_index)\n",
    "\n",
    "new_test_index = np.arange(x_test.shape[0])\n",
    "np.random.shuffle(new_test_index)\n",
    "\n",
    "x_train = x_train[new_train_index]\n",
    "y_train = y_train[new_train_index]\n",
    "\n",
    "x_test = x_test[new_test_index]\n",
    "y_test = y_test[new_test_index]\n",
    "\n",
    "print(x_train.shape)\n",
    "print(x_test.shape)\n"
   ]
  },
  {
   "cell_type": "code",
   "execution_count": 6,
   "metadata": {
    "scrolled": true
   },
   "outputs": [
    {
     "data": {
      "image/png": "[encoded data removed]",
      "text/plain": [
       "<Figure size 432x288 with 1 Axes>"
      ]
     },
     "metadata": {},
     "output_type": "display_data"
    },
    {
     "data": {
      "image/png": "[encoded data removed]",
      "text/plain": [
       "<Figure size 432x288 with 1 Axes>"
      ]
     },
     "metadata": {},
     "output_type": "display_data"
    }
   ],
   "source": [
    "#Histogram of filtered data\n",
    "\n",
    "f = plt.figure(figsize=(6, 4))\n",
    "\n",
    "plt.hist(y_train, bins=100, density=True, color='red', edgecolor='black')\n",
    "\n",
    "plt.xlim(-4, 4)\n",
    "plt.xticks(fontsize=14)\n",
    "plt.yticks(fontsize=14)\n",
    "\n",
    "plt.xlabel(\"Mean Activity (log)\", fontsize=14)\n",
    "plt.ylabel(\"Data Density\", fontsize=14)\n",
    "\n",
    "plt.tight_layout()\n",
    "plt.show()\n",
    "\n",
    "f = plt.figure(figsize=(6, 4))\n",
    "\n",
    "plt.hist(y_test, bins=100, density=True, color='red', edgecolor='black')\n",
    "\n",
    "plt.xlim(-4, 4)\n",
    "plt.xticks(fontsize=14)\n",
    "plt.yticks(fontsize=14)\n",
    "\n",
    "plt.xlabel(\"Mean Activity (log)\", fontsize=14)\n",
    "plt.ylabel(\"Data Density\", fontsize=14)\n",
    "\n",
    "plt.tight_layout()\n",
    "plt.show()\n"
   ]
  },
  {
   "cell_type": "code",
   "execution_count": 8,
   "metadata": {},
   "outputs": [],
   "source": [
    "\n",
    "acgt_encoder = IdentityEncoder(145, {'A':0, 'C':1, 'G':2, 'T':3})\n",
    "\n",
    "seqs_train = [\n",
    "    acgt_encoder.decode(x_train[i, 0, :, :]) for i in range(x_train.shape[0])\n",
    "]\n",
    "\n",
    "seqs_test = [\n",
    "    acgt_encoder.decode(x_test[i, 0, :, :]) for i in range(x_test.shape[0])\n",
    "]\n"
   ]
  },
  {
   "cell_type": "code",
   "execution_count": 10,
   "metadata": {},
   "outputs": [],
   "source": [
    "\n",
    "with open('mpradragonn_seqs_sample.txt', 'wt') as f :\n",
    "    i = 0\n",
    "    for seq in seqs_train :\n",
    "        f.write(seq + \"\\t\" + str(round(y_train[i], 4)) + \"\\n\")\n",
    "        \n",
    "        i += 1\n"
   ]
  },
  {
   "cell_type": "code",
   "execution_count": null,
   "metadata": {},
   "outputs": [],
   "source": []
  }
 ],
 "metadata": {
  "kernelspec": {
   "display_name": "Environment (conda_tensorflow_p36)",
   "language": "python",
   "name": "conda_tensorflow_p36"
  },
  "language_info": {
   "codemirror_mode": {
    "name": "ipython",
    "version": 3
   },
   "file_extension": ".py",
   "mimetype": "text/x-python",
   "name": "python",
   "nbconvert_exporter": "python",
   "pygments_lexer": "ipython3",
   "version": "3.6.5"
  }
 },
 "nbformat": 4,
 "nbformat_minor": 2
}
